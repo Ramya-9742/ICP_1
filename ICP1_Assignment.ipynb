{
  "nbformat": 4,
  "nbformat_minor": 0,
  "metadata": {
    "colab": {
      "provenance": [],
      "toc_visible": true
    },
    "kernelspec": {
      "name": "python3",
      "display_name": "Python 3"
    },
    "language_info": {
      "name": "python"
    }
  },
  "cells": [
    {
      "cell_type": "code",
      "source": [],
      "metadata": {
        "id": "xg4jx2jUuDEP"
      },
      "execution_count": null,
      "outputs": []
    },
    {
      "cell_type": "code",
      "execution_count": 5,
      "metadata": {
        "colab": {
          "base_uri": "https://localhost:8080/"
        },
        "id": "9pMPTNXatXQa",
        "outputId": "2ff4c9e1-62f6-47f0-d236-dd362b717568"
      },
      "outputs": [
        {
          "output_type": "stream",
          "name": "stdout",
          "text": [
            "Enter the string:python\n",
            "Reversed String: noht\n"
          ]
        }
      ],
      "source": [
        "\n",
        "#1   a)\n",
        "#************************************************************\n",
        "p1=input(\"Enter the string:\")\n",
        "p1=list(p1)\n",
        "if len(p1)>=2:\n",
        "  del p1[:2]\n",
        "rev_str=''.join(p1[::-1])\n",
        "print(\"Reversed String:\",rev_str)\n",
        "\n",
        "\n"
      ]
    },
    {
      "cell_type": "code",
      "source": [],
      "metadata": {
        "id": "Mhwt6XitYvKy"
      },
      "execution_count": null,
      "outputs": []
    },
    {
      "cell_type": "code",
      "source": [],
      "metadata": {
        "id": "ta18KQx5Yxib"
      },
      "execution_count": null,
      "outputs": []
    },
    {
      "cell_type": "code",
      "source": [
        "# b)\n",
        "#*******perform arithmetic operations******************\n",
        "n1=float(input(\"Enter the first number: \"))\n",
        "n2=float(input(\"Enter the second number: \"))\n",
        "print(\"Addition:\",n1+n2)\n",
        "print(\"Substraction:\",n1-n2)\n",
        "print(\"Multiplication\",n1*n2)\n",
        "print(\"division\",n1/n2)\n"
      ],
      "metadata": {
        "id": "tBmB67YQ68id",
        "colab": {
          "base_uri": "https://localhost:8080/"
        },
        "outputId": "b53a8399-e126-4c30-d9d9-e2f4f538a5e8"
      },
      "execution_count": 8,
      "outputs": [
        {
          "output_type": "stream",
          "name": "stdout",
          "text": [
            "Enter the first number: 100\n",
            "Enter the second number: 200\n",
            "Addition: 300.0\n",
            "Substraction: -100.0\n",
            "Multiplication 20000.0\n",
            "division 0.5\n"
          ]
        }
      ]
    },
    {
      "cell_type": "code",
      "source": [
        "#2\n",
        "#**************************************\n",
        "stmt_1=input(\"Enter a sentence: \")\n",
        "stmt_2=stmt_1.replace('python','pythons')\n",
        "print(\"Modified sentence: \",stmt_2)\n"
      ],
      "metadata": {
        "colab": {
          "base_uri": "https://localhost:8080/"
        },
        "id": "k3C6BKTKSnDU",
        "outputId": "2801ce8f-2a75-491a-8818-c7d5d0793177"
      },
      "execution_count": 10,
      "outputs": [
        {
          "output_type": "stream",
          "name": "stdout",
          "text": [
            "Enter a sentence: python\n",
            "Modified sentence:  pythons\n"
          ]
        }
      ]
    },
    {
      "cell_type": "code",
      "source": [
        "#3\n",
        "input1=float(input(\"Enter your marks \"))\n",
        "if 90<=input1<=100:\n",
        "  print('A')\n",
        "elif input1>=80:\n",
        "  print(\"B\")\n",
        "elif input1>=70:\n",
        "  print(\"C\")\n",
        "elif input1>=60:\n",
        "  print(\"D\")\n",
        "else:\n",
        "  print(\"F\")\n",
        "\n",
        "\n"
      ],
      "metadata": {
        "colab": {
          "base_uri": "https://localhost:8080/"
        },
        "id": "sw1cxVDqYzw8",
        "outputId": "25f084f0-2d70-4043-9abb-57a9f58ae192"
      },
      "execution_count": 12,
      "outputs": [
        {
          "output_type": "stream",
          "name": "stdout",
          "text": [
            "Enter your marks 80\n",
            "B\n"
          ]
        }
      ]
    }
  ]
}